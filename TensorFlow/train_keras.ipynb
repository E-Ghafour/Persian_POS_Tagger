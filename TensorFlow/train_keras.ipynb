{
 "cells": [
  {
   "cell_type": "code",
   "execution_count": 86,
   "metadata": {},
   "outputs": [],
   "source": [
    "import nltk\n",
    "from hazm import *\n",
    "from nltk.corpus import treebank, conll2000, brown\n",
    "import pickle\n",
    "import pandas as pd\n",
    "from tqdm import tqdm\n",
    "from tensorflow.keras.preprocessing.sequence import pad_sequences\n",
    "import numpy as np\n",
    "from tensorflow.keras.utils import to_categorical\n",
    "from tensorflow.keras.models import Sequential\n",
    "from tensorflow.keras.layers import Embedding, SimpleRNN, TimeDistributed, Dense, LSTM, GRU\n",
    "import itertools\n",
    "\n",
    "import os\n",
    "os.environ['CUDA_VISIBLE_DEVICES'] = '-1'\n",
    "\n",
    "from sklearn.model_selection import train_test_split"
   ]
  },
  {
   "cell_type": "code",
   "execution_count": 2,
   "metadata": {},
   "outputs": [],
   "source": [
    "with open('../data.pkl', 'rb') as ff:\n",
    "    tagged_sentences = pickle.load(ff)"
   ]
  },
  {
   "cell_type": "code",
   "execution_count": 3,
   "metadata": {},
   "outputs": [
    {
     "name": "stderr",
     "output_type": "stream",
     "text": [
      "100%|██████████| 344741/344741 [00:05<00:00, 58738.92it/s] \n"
     ]
    },
    {
     "name": "stdout",
     "output_type": "stream",
     "text": [
      "Total number of tagged sentences: 344741\n",
      "Vocabulary size: 147114\n",
      "Total number of tags: 20\n"
     ]
    }
   ],
   "source": [
    "X = [] # store input sequence\n",
    "Y = [] # store output sequencefor sentence in tagged_sentences:\n",
    "\n",
    "for sentence in tqdm(tagged_sentences):\n",
    "    X_sentence = []\n",
    "    Y_sentence = []\n",
    "    for entity in sentence: \n",
    "        X_sentence.append(entity[0]) # entity[0] contains the word\n",
    "        Y_sentence.append(entity[1]) # entity[1] contains corresponding tag\n",
    " \n",
    "    X.append(X_sentence)\n",
    "    Y.append(Y_sentence)\n",
    "\n",
    "num_words = len(set([word.lower() for sentence in X for word in sentence]))\n",
    "num_tags   = len(set([word.lower() for sentence in Y for word in sentence]))\n",
    "print(\"Total number of tagged sentences: {}\".format(len(X)))\n",
    "print(\"Vocabulary size: {}\".format(num_words))\n",
    "print(\"Total number of tags: {}\".format(num_tags))"
   ]
  },
  {
   "cell_type": "code",
   "execution_count": 4,
   "metadata": {},
   "outputs": [
    {
     "name": "stdout",
     "output_type": "stream",
     "text": [
      "sample X:  ['منبع', ':', ')', 'مجلة', 'سروش', 'هفتگی', '،', 'مصاحبه', 'با', 'رئیس', 'دفتر', 'الجزیره', 'در', 'تهران', '،', '۱۳۸۰', '('] \n",
      "\n",
      "sample Y:  ['NOUN', 'PUNCT', 'PUNCT', 'NOUN,EZ', 'NOUN,EZ', 'ADJ', 'PUNCT', 'NOUN', 'ADP', 'NOUN,EZ', 'NOUN,EZ', 'NOUN', 'ADP', 'NOUN', 'PUNCT', 'NUM', 'PUNCT'] \n",
      "\n"
     ]
    }
   ],
   "source": [
    "# let’s look at first data point\n",
    "# this is one data point that will be fed to the RNN\n",
    "print('sample X: ', X[0], '\\n')\n",
    "print('sample Y: ', Y[0], '\\n')"
   ]
  },
  {
   "cell_type": "code",
   "execution_count": 5,
   "metadata": {},
   "outputs": [
    {
     "name": "stdout",
     "output_type": "stream",
     "text": [
      "Length of first output sequence : 17\n"
     ]
    }
   ],
   "source": [
    "# In this many-to-many problem, the length of each input and output sequence must be the same.\n",
    "# Since each word is tagged, it’s important to make sure that the length of input sequence equals the output sequenceprint(“Length of first input sequence : {}”.format(len(X[0])))\n",
    "print('Length of first output sequence : {}'.format(len(Y[0])))"
   ]
  },
  {
   "cell_type": "code",
   "execution_count": 6,
   "metadata": {},
   "outputs": [],
   "source": [
    "we = WordEmbedding(model_path='/home/roshan/ebi/word_embedding/resources/cc.fa.300.bin',\n",
    "                   model_type='fasttext')\n"
   ]
  },
  {
   "cell_type": "code",
   "execution_count": 7,
   "metadata": {},
   "outputs": [],
   "source": [
    "vocab_to_index = we.get_vocab_to_index()\n",
    "vocabs = we.get_vocabs()\n",
    "vectors = we.get_vectors()\n"
   ]
  },
  {
   "cell_type": "code",
   "execution_count": 8,
   "metadata": {},
   "outputs": [],
   "source": [
    "arr = list(vectors)\n",
    "arr.insert(0, np.zeros(300, ))\n",
    "vectors = np.array(arr)"
   ]
  },
  {
   "cell_type": "code",
   "execution_count": 9,
   "metadata": {},
   "outputs": [
    {
     "name": "stderr",
     "output_type": "stream",
     "text": [
      "100%|██████████| 344741/344741 [00:07<00:00, 43243.68it/s]\n"
     ]
    }
   ],
   "source": [
    "# encode X\n",
    "X_encoded = []\n",
    "for sent in tqdm(X):\n",
    "    tmp_list = []\n",
    "    for word in sent:\n",
    "        tmp_list.append(vocab_to_index.get(word, 0))\n",
    "    X_encoded.append(tmp_list)\n"
   ]
  },
  {
   "cell_type": "code",
   "execution_count": 10,
   "metadata": {},
   "outputs": [
    {
     "name": "stderr",
     "output_type": "stream",
     "text": [
      "100%|██████████| 344741/344741 [00:00<00:00, 370893.18it/s]\n",
      "100%|██████████| 344741/344741 [00:03<00:00, 89249.03it/s] \n"
     ]
    }
   ],
   "source": [
    "# encode Y\n",
    "def create_dict(Y):\n",
    "    labels = []\n",
    "    for sent in tqdm(Y):\n",
    "        for label in sent:\n",
    "            labels.append(label)\n",
    "    unique_labels = np.unique(labels).tolist()\n",
    "    unique_labels.insert(0, 'PAD')\n",
    "    label_dict = {}\n",
    "    for i in range(len(unique_labels)):\n",
    "        label_dict[unique_labels[i]] = i\n",
    "    return label_dict\n",
    "\n",
    "label_dict = create_dict(Y)\n",
    "Y_encoded = []\n",
    "for sent in tqdm(Y):\n",
    "    tmp_list = []\n",
    "    for label in sent:\n",
    "        tmp_list.append(label_dict[label])\n",
    "    Y_encoded.append(tmp_list)\n",
    "\n",
    "id2label = {}\n",
    "for label, id in label_dict.items():\n",
    "    id2label[id] = label\n"
   ]
  },
  {
   "cell_type": "code",
   "execution_count": 11,
   "metadata": {},
   "outputs": [
    {
     "name": "stdout",
     "output_type": "stream",
     "text": [
      "** Raw data point ** \n",
      " ---------------------------------------------------------------------------------------------------- \n",
      "\n",
      "X:  ['منبع', ':', ')', 'مجلة', 'سروش', 'هفتگی', '،', 'مصاحبه', 'با', 'رئیس', 'دفتر', 'الجزیره', 'در', 'تهران', '،', '۱۳۸۰', '('] \n",
      "\n",
      "Y:  ['NOUN', 'PUNCT', 'PUNCT', 'NOUN,EZ', 'NOUN,EZ', 'ADJ', 'PUNCT', 'NOUN', 'ADP', 'NOUN,EZ', 'NOUN,EZ', 'NOUN', 'ADP', 'NOUN', 'PUNCT', 'NUM', 'PUNCT'] \n",
      "\n",
      "\n",
      "** Encoded data point ** \n",
      " ---------------------------------------------------------------------------------------------------- \n",
      "\n",
      "X:  [533, 8, 13, 94932, 5776, 6863, 3, 1697, 11, 395, 1061, 16493, 2, 87, 3, 7444, 12] \n",
      "\n",
      "Y:  [12, 18, 18, 13, 13, 1, 18, 12, 3, 13, 13, 12, 3, 12, 18, 14, 18] \n",
      "\n"
     ]
    }
   ],
   "source": [
    "# look at first encoded data point\n",
    "print(\"** Raw data point **\", \"\\n\", \"-\"*100, \"\\n\")\n",
    "print('X: ', X[0], '\\n')\n",
    "print('Y: ', Y[0], '\\n')\n",
    "print()\n",
    "print(\"** Encoded data point **\", \"\\n\", \"-\"*100, \"\\n\")\n",
    "print('X: ', X_encoded[0], '\\n')\n",
    "print('Y: ', Y_encoded[0], '\\n')"
   ]
  },
  {
   "cell_type": "code",
   "execution_count": 12,
   "metadata": {},
   "outputs": [
    {
     "name": "stdout",
     "output_type": "stream",
     "text": [
      "[    0     0     0     0     0     0     0     0     0     0     0     0\n",
      "     0     0     0     0     0     0     0     0     0     0     0     0\n",
      "     0     0     0     0     0     0     0     0     0     0     0     0\n",
      "     0     0     0     0     0     0     0   533     8    13 94932  5776\n",
      "  6863     3  1697    11   395  1061 16493     2    87     3  7444    12] \n",
      "\n",
      "\n",
      "\n",
      "[ 0  0  0  0  0  0  0  0  0  0  0  0  0  0  0  0  0  0  0  0  0  0  0  0\n",
      "  0  0  0  0  0  0  0  0  0  0  0  0  0  0  0  0  0  0  0 12 18 18 13 13\n",
      "  1 18 12  3 13 13 12  3 12 18 14 18]\n"
     ]
    }
   ],
   "source": [
    "# Pad each sequence to MAX_SEQ_LENGTH using KERAS’ pad_sequences() function. \n",
    "# Sentences longer than MAX_SEQ_LENGTH are truncated.\n",
    "# Sentences shorter than MAX_SEQ_LENGTH are padded with zeroes.# Truncation and padding can either be ‘pre’ or ‘post’. \n",
    "# For padding we are using ‘pre’ padding type, that is, add zeroes on the left side.\n",
    "# For truncation, we are using ‘post’, that is, truncate a sentence from right side.# sequences greater than 100 in length will be truncated\n",
    "MAX_SEQ_LENGTH = 60\n",
    "X_padded = pad_sequences(X_encoded, maxlen=MAX_SEQ_LENGTH, padding=\"pre\", truncating=\"post\")\n",
    "Y_padded = pad_sequences(Y_encoded, maxlen=MAX_SEQ_LENGTH, padding=\"pre\", truncating=\"post\")\n",
    "\n",
    "# print the first sequence\n",
    "print(X_padded[0], \"\\n\"*3)\n",
    "print(Y_padded[0])"
   ]
  },
  {
   "cell_type": "code",
   "execution_count": 13,
   "metadata": {},
   "outputs": [],
   "source": [
    "EMBEDDING_SIZE  = 300\n",
    "VOCABULARY_SIZE = len(vectors)\n",
    "embedding_weights = vectors\n",
    "word2id = we.get_vocab_to_index()"
   ]
  },
  {
   "cell_type": "code",
   "execution_count": 14,
   "metadata": {},
   "outputs": [],
   "source": [
    "Y = to_categorical(Y_padded)\n",
    "X = X_padded\n",
    "NUM_CLASSES = len(Y[0][0])"
   ]
  },
  {
   "cell_type": "code",
   "execution_count": 18,
   "metadata": {},
   "outputs": [
    {
     "name": "stderr",
     "output_type": "stream",
     "text": [
      "2023-07-20 07:15:56.932395: E tensorflow/compiler/xla/stream_executor/cuda/cuda_driver.cc:268] failed call to cuInit: CUDA_ERROR_NO_DEVICE: no CUDA-capable device is detected\n",
      "2023-07-20 07:15:56.932461: I tensorflow/compiler/xla/stream_executor/cuda/cuda_diagnostics.cc:168] retrieving CUDA diagnostic information for host: dev5\n",
      "2023-07-20 07:15:56.932490: I tensorflow/compiler/xla/stream_executor/cuda/cuda_diagnostics.cc:175] hostname: dev5\n",
      "2023-07-20 07:15:56.932694: I tensorflow/compiler/xla/stream_executor/cuda/cuda_diagnostics.cc:199] libcuda reported version is: 525.105.17\n",
      "2023-07-20 07:15:56.932724: I tensorflow/compiler/xla/stream_executor/cuda/cuda_diagnostics.cc:203] kernel reported version is: 525.105.17\n",
      "2023-07-20 07:15:56.932732: I tensorflow/compiler/xla/stream_executor/cuda/cuda_diagnostics.cc:309] kernel version seems to match DSO: 525.105.17\n",
      "2023-07-20 07:15:56.999253: W tensorflow/tsl/framework/cpu_allocator_impl.cc:83] Allocation of 2400001200 exceeds 10% of free system memory.\n",
      "2023-07-20 07:15:57.229323: W tensorflow/tsl/framework/cpu_allocator_impl.cc:83] Allocation of 2400001200 exceeds 10% of free system memory.\n",
      "2023-07-20 07:15:57.414849: W tensorflow/tsl/framework/cpu_allocator_impl.cc:83] Allocation of 2400001200 exceeds 10% of free system memory.\n"
     ]
    },
    {
     "name": "stdout",
     "output_type": "stream",
     "text": [
      "Model: \"sequential\"\n",
      "_________________________________________________________________\n",
      " Layer (type)                Output Shape              Param #   \n",
      "=================================================================\n",
      " embedding (Embedding)       (None, 60, 300)           600000300 \n",
      "                                                                 \n",
      " simple_rnn (SimpleRNN)      (None, 60, 64)            23360     \n",
      "                                                                 \n",
      " time_distributed (TimeDist  (None, 60, 21)            1365      \n",
      " ributed)                                                        \n",
      "                                                                 \n",
      "=================================================================\n",
      "Total params: 600025025 (2.24 GB)\n",
      "Trainable params: 24725 (96.58 KB)\n",
      "Non-trainable params: 600000300 (2.24 GB)\n",
      "_________________________________________________________________\n"
     ]
    }
   ],
   "source": [
    "# create architecture\n",
    "rnn_model = Sequential()\n",
    "# create embedding layer — usually the first layer in text problems\n",
    "# vocabulary size — number of unique words in data\n",
    "rnn_model.add(Embedding(input_dim = VOCABULARY_SIZE, \n",
    "# length of vector with which each word is represented\n",
    " output_dim = EMBEDDING_SIZE, \n",
    "# length of input sequence\n",
    " input_length = MAX_SEQ_LENGTH, \n",
    "# False — don’t update the embeddings\n",
    " trainable = False \n",
    "))\n",
    "# add an RNN layer which contains 64 RNN cells\n",
    "# True — return whole sequence; False — return single output of the end of the sequence\n",
    "rnn_model.add(SimpleRNN(64, \n",
    " return_sequences=True\n",
    "))\n",
    "# add time distributed (output at each sequence) layer\n",
    "rnn_model.add(TimeDistributed(Dense(NUM_CLASSES, activation='softmax')))\n",
    "#compile model\n",
    "rnn_model.compile(loss      =  'categorical_crossentropy',\n",
    "                  optimizer =  'adam',\n",
    "                  metrics   =  ['acc'])\n",
    "# check summary of the model\n",
    "rnn_model.summary()"
   ]
  },
  {
   "cell_type": "code",
   "execution_count": 79,
   "metadata": {},
   "outputs": [],
   "source": [
    "X_train, X_test, Y_train, Y_test = train_test_split(X, Y, test_size=0.1, random_state=10)"
   ]
  },
  {
   "cell_type": "code",
   "execution_count": 22,
   "metadata": {},
   "outputs": [
    {
     "name": "stdout",
     "output_type": "stream",
     "text": [
      "Epoch 1/10\n"
     ]
    },
    {
     "name": "stderr",
     "output_type": "stream",
     "text": [
      "2023-07-20 07:18:39.214152: W tensorflow/tsl/framework/cpu_allocator_impl.cc:83] Allocation of 1563740640 exceeds 10% of free system memory.\n"
     ]
    },
    {
     "name": "stdout",
     "output_type": "stream",
     "text": [
      "2424/2424 [==============================] - 55s 22ms/step - loss: 0.5972 - acc: 0.8042 - val_loss: 0.4259 - val_acc: 0.8496\n",
      "Epoch 2/10\n",
      "2424/2424 [==============================] - 53s 22ms/step - loss: 0.3990 - acc: 0.8564 - val_loss: 0.3808 - val_acc: 0.8614\n",
      "Epoch 3/10\n",
      "2424/2424 [==============================] - 51s 21ms/step - loss: 0.3701 - acc: 0.8639 - val_loss: 0.3584 - val_acc: 0.8677\n",
      "Epoch 4/10\n",
      "2424/2424 [==============================] - 50s 21ms/step - loss: 0.3490 - acc: 0.8708 - val_loss: 0.3368 - val_acc: 0.8750\n",
      "Epoch 5/10\n",
      "2424/2424 [==============================] - 51s 21ms/step - loss: 0.3295 - acc: 0.8776 - val_loss: 0.3200 - val_acc: 0.8809\n",
      "Epoch 6/10\n",
      "2424/2424 [==============================] - 51s 21ms/step - loss: 0.3125 - acc: 0.8838 - val_loss: 0.3038 - val_acc: 0.8871\n",
      "Epoch 7/10\n",
      "2424/2424 [==============================] - 51s 21ms/step - loss: 0.2979 - acc: 0.8890 - val_loss: 0.2900 - val_acc: 0.8921\n",
      "Epoch 8/10\n",
      "2424/2424 [==============================] - 51s 21ms/step - loss: 0.2861 - acc: 0.8934 - val_loss: 0.2800 - val_acc: 0.8954\n",
      "Epoch 9/10\n",
      "2424/2424 [==============================] - 51s 21ms/step - loss: 0.2762 - acc: 0.8970 - val_loss: 0.2710 - val_acc: 0.8989\n",
      "Epoch 10/10\n",
      "2424/2424 [==============================] - 51s 21ms/step - loss: 0.2685 - acc: 0.8999 - val_loss: 0.2648 - val_acc: 0.9008\n"
     ]
    }
   ],
   "source": [
    "#fit model\n",
    "rnn_training = rnn_model.fit(X_train, Y_train, batch_size=128,\n",
    "                            epochs=10, validation_data=(X_test, Y_test))"
   ]
  },
  {
   "cell_type": "code",
   "execution_count": 80,
   "metadata": {},
   "outputs": [],
   "source": [
    "Y_test = Y_test.argmax(axis=-1)\n",
    "Y_test_flatten_tmp = Y_test.flatten()\n",
    "Y_test_flatten = Y_test_flatten_tmp[Y_test_flatten_tmp > 0]\n",
    "Y_test_flatten = [id2label[id] for id in Y_test_flatten]"
   ]
  },
  {
   "cell_type": "code",
   "execution_count": 64,
   "metadata": {},
   "outputs": [
    {
     "name": "stdout",
     "output_type": "stream",
     "text": [
      "1078/1078 [==============================] - 7s 6ms/step\n"
     ]
    }
   ],
   "source": [
    "Y_pred = rnn_model.predict(X_test)\n",
    "Y_pred = Y_pred.argmax(axis=-1)"
   ]
  },
  {
   "cell_type": "code",
   "execution_count": 82,
   "metadata": {},
   "outputs": [],
   "source": [
    "Y_pred_flatten = Y_pred.flatten()\n",
    "Y_pred_flatten = Y_pred_flatten[Y_test_flatten_tmp > 0]\n",
    "Y_pred_flatten = [id2label[id] for id in Y_pred_flatten]"
   ]
  },
  {
   "cell_type": "code",
   "execution_count": 83,
   "metadata": {},
   "outputs": [
    {
     "data": {
      "text/plain": [
       "(60, 60)"
      ]
     },
     "execution_count": 83,
     "metadata": {},
     "output_type": "execute_result"
    }
   ],
   "source": [
    "len(Y_pred[0]), len(Y_test[0])"
   ]
  },
  {
   "cell_type": "code",
   "execution_count": 84,
   "metadata": {},
   "outputs": [
    {
     "name": "stderr",
     "output_type": "stream",
     "text": [
      "/home/roshan/ebi/venvs/myVenv/lib/python3.10/site-packages/sklearn/metrics/_classification.py:1344: UndefinedMetricWarning: Recall and F-score are ill-defined and being set to 0.0 in labels with no true samples. Use `zero_division` parameter to control this behavior.\n",
      "  _warn_prf(average, modifier, msg_start, len(result))\n",
      "/home/roshan/ebi/venvs/myVenv/lib/python3.10/site-packages/sklearn/metrics/_classification.py:1344: UndefinedMetricWarning: Recall and F-score are ill-defined and being set to 0.0 in labels with no true samples. Use `zero_division` parameter to control this behavior.\n",
      "  _warn_prf(average, modifier, msg_start, len(result))\n",
      "/home/roshan/ebi/venvs/myVenv/lib/python3.10/site-packages/sklearn/metrics/_classification.py:1344: UndefinedMetricWarning: Recall and F-score are ill-defined and being set to 0.0 in labels with no true samples. Use `zero_division` parameter to control this behavior.\n",
      "  _warn_prf(average, modifier, msg_start, len(result))\n"
     ]
    },
    {
     "name": "stdout",
     "output_type": "stream",
     "text": [
      "              precision    recall  f1-score   support\n",
      "\n",
      "         ADJ       0.60      0.63      0.62     64435\n",
      "      ADJ,EZ       0.58      0.25      0.35     22023\n",
      "         ADP       0.99      1.00      0.99    108518\n",
      "      ADP,EZ       0.91      0.94      0.93     10746\n",
      "         ADV       0.80      0.68      0.74     17353\n",
      "      ADV,EZ       0.93      0.85      0.88      1077\n",
      "       CCONJ       0.81      0.95      0.88     55705\n",
      "    CCONJ,EZ       0.99      0.69      0.81        97\n",
      "         DET       0.88      0.92      0.90     21398\n",
      "      DET,EZ       0.77      0.86      0.81      2216\n",
      "        INTJ       0.83      0.97      0.89        59\n",
      "        NOUN       0.65      0.64      0.65    202147\n",
      "     NOUN,EZ       0.64      0.71      0.67    173016\n",
      "         NUM       0.86      0.80      0.83     24995\n",
      "      NUM,EZ       0.59      0.14      0.22      1814\n",
      "         PAD       0.00      0.00      0.00         0\n",
      "        PRON       0.90      0.88      0.89     24147\n",
      "     PRON,EZ       0.57      0.01      0.03       268\n",
      "       PUNCT       1.00      0.99      1.00     90386\n",
      "       SCONJ       0.98      0.96      0.97     22096\n",
      "        VERB       0.91      0.76      0.83     82907\n",
      "\n",
      "    accuracy                           0.78    925403\n",
      "   macro avg       0.77      0.70      0.71    925403\n",
      "weighted avg       0.78      0.78      0.78    925403\n",
      "\n",
      "Precision                                   : 0.7811\n"
     ]
    },
    {
     "name": "stderr",
     "output_type": "stream",
     "text": [
      "/home/roshan/ebi/venvs/myVenv/lib/python3.10/site-packages/sklearn/metrics/_classification.py:1344: UndefinedMetricWarning: Recall is ill-defined and being set to 0.0 in labels with no true samples. Use `zero_division` parameter to control this behavior.\n",
      "  _warn_prf(average, modifier, msg_start, len(result))\n"
     ]
    },
    {
     "name": "stdout",
     "output_type": "stream",
     "text": [
      "Recall                                      : 0.7783\n",
      "F1-Score                                    : 0.7762\n"
     ]
    }
   ],
   "source": [
    "from sklearn.metrics import classification_report, precision_score, recall_score, f1_score, accuracy_score\n",
    "y_test = Y_test_flatten\n",
    "y_pred = Y_pred_flatten\n",
    "\n",
    "\n",
    "print(classification_report(y_test, y_pred))\n",
    "\n",
    "\n",
    "print('Precision                                   : %.4f'%precision_score(y_test, y_pred, average='weighted'))\n",
    "print('Recall                                      : %.4f'%recall_score(y_test, y_pred, average='weighted'))\n",
    "print('F1-Score                                    : %.4f'%f1_score(y_test, y_pred, average='weighted'))\n"
   ]
  },
  {
   "cell_type": "code",
   "execution_count": 89,
   "metadata": {},
   "outputs": [
    {
     "name": "stdout",
     "output_type": "stream",
     "text": [
      "Model: \"sequential_3\"\n",
      "_________________________________________________________________\n",
      " Layer (type)                Output Shape              Param #   \n",
      "=================================================================\n",
      " embedding_3 (Embedding)     (None, 60, 300)           600000300 \n",
      "                                                                 \n",
      " lstm_1 (LSTM)               (None, 60, 64)            93440     \n",
      "                                                                 \n",
      " time_distributed_2 (TimeDi  (None, 60, 21)            1365      \n",
      " stributed)                                                      \n",
      "                                                                 \n",
      "=================================================================\n",
      "Total params: 600095105 (2.24 GB)\n",
      "Trainable params: 600095105 (2.24 GB)\n",
      "Non-trainable params: 0 (0.00 Byte)\n",
      "_________________________________________________________________\n"
     ]
    }
   ],
   "source": [
    "# create architecture\n",
    "lstm_model = Sequential()\n",
    "# vocabulary size — number of unique words in data\n",
    "# length of vector with which each word is represented\n",
    "lstm_model.add(Embedding(input_dim = VOCABULARY_SIZE, \n",
    " output_dim = EMBEDDING_SIZE, \n",
    "# length of input sequence\n",
    "input_length = MAX_SEQ_LENGTH, \n",
    "# word embedding matrix\n",
    "weights = [embedding_weights],\n",
    "# True — update embeddings_weight matrix\n",
    "trainable = True \n",
    "))\n",
    "# add an LSTM layer which contains 64 LSTM cells\n",
    "# True — return whole sequence; False — return single output of the end of the sequence\n",
    "lstm_model.add(LSTM(64, return_sequences=True))\n",
    "lstm_model.add(TimeDistributed(Dense(NUM_CLASSES, activation='softmax')))\n",
    "#compile model\n",
    "lstm_model.compile(loss      =  'categorical_crossentropy',\n",
    "                  optimizer =  'adam',\n",
    "                  metrics   =  ['acc'])\n",
    "# check summary of the model\n",
    "lstm_model.summary()"
   ]
  },
  {
   "cell_type": "code",
   "execution_count": 91,
   "metadata": {},
   "outputs": [
    {
     "name": "stdout",
     "output_type": "stream",
     "text": [
      "Epoch 1/10\n",
      "   2/2424 [..............................] - ETA: 5:11:36 - loss: 3.0337 - acc: 0.5661"
     ]
    },
    {
     "ename": "KeyboardInterrupt",
     "evalue": "",
     "output_type": "error",
     "traceback": [
      "\u001b[0;31m---------------------------------------------------------------------------\u001b[0m",
      "\u001b[0;31mKeyboardInterrupt\u001b[0m                         Traceback (most recent call last)",
      "Cell \u001b[0;32mIn[91], line 1\u001b[0m\n\u001b[0;32m----> 1\u001b[0m lstm_training \u001b[39m=\u001b[39m lstm_model\u001b[39m.\u001b[39;49mfit(X_train, Y_train, batch_size\u001b[39m=\u001b[39;49m\u001b[39m128\u001b[39;49m,\n\u001b[1;32m      2\u001b[0m                                 epochs\u001b[39m=\u001b[39;49m\u001b[39m10\u001b[39;49m, validation_data\u001b[39m=\u001b[39;49m(X_test, Y_test))\n",
      "File \u001b[0;32m~/ebi/venvs/myVenv/lib/python3.10/site-packages/keras/src/utils/traceback_utils.py:65\u001b[0m, in \u001b[0;36mfilter_traceback.<locals>.error_handler\u001b[0;34m(*args, **kwargs)\u001b[0m\n\u001b[1;32m     63\u001b[0m filtered_tb \u001b[39m=\u001b[39m \u001b[39mNone\u001b[39;00m\n\u001b[1;32m     64\u001b[0m \u001b[39mtry\u001b[39;00m:\n\u001b[0;32m---> 65\u001b[0m     \u001b[39mreturn\u001b[39;00m fn(\u001b[39m*\u001b[39;49margs, \u001b[39m*\u001b[39;49m\u001b[39m*\u001b[39;49mkwargs)\n\u001b[1;32m     66\u001b[0m \u001b[39mexcept\u001b[39;00m \u001b[39mException\u001b[39;00m \u001b[39mas\u001b[39;00m e:\n\u001b[1;32m     67\u001b[0m     filtered_tb \u001b[39m=\u001b[39m _process_traceback_frames(e\u001b[39m.\u001b[39m__traceback__)\n",
      "File \u001b[0;32m~/ebi/venvs/myVenv/lib/python3.10/site-packages/keras/src/engine/training.py:1742\u001b[0m, in \u001b[0;36mModel.fit\u001b[0;34m(self, x, y, batch_size, epochs, verbose, callbacks, validation_split, validation_data, shuffle, class_weight, sample_weight, initial_epoch, steps_per_epoch, validation_steps, validation_batch_size, validation_freq, max_queue_size, workers, use_multiprocessing)\u001b[0m\n\u001b[1;32m   1734\u001b[0m \u001b[39mwith\u001b[39;00m tf\u001b[39m.\u001b[39mprofiler\u001b[39m.\u001b[39mexperimental\u001b[39m.\u001b[39mTrace(\n\u001b[1;32m   1735\u001b[0m     \u001b[39m\"\u001b[39m\u001b[39mtrain\u001b[39m\u001b[39m\"\u001b[39m,\n\u001b[1;32m   1736\u001b[0m     epoch_num\u001b[39m=\u001b[39mepoch,\n\u001b[0;32m   (...)\u001b[0m\n\u001b[1;32m   1739\u001b[0m     _r\u001b[39m=\u001b[39m\u001b[39m1\u001b[39m,\n\u001b[1;32m   1740\u001b[0m ):\n\u001b[1;32m   1741\u001b[0m     callbacks\u001b[39m.\u001b[39mon_train_batch_begin(step)\n\u001b[0;32m-> 1742\u001b[0m     tmp_logs \u001b[39m=\u001b[39m \u001b[39mself\u001b[39;49m\u001b[39m.\u001b[39;49mtrain_function(iterator)\n\u001b[1;32m   1743\u001b[0m     \u001b[39mif\u001b[39;00m data_handler\u001b[39m.\u001b[39mshould_sync:\n\u001b[1;32m   1744\u001b[0m         context\u001b[39m.\u001b[39masync_wait()\n",
      "File \u001b[0;32m~/ebi/venvs/myVenv/lib/python3.10/site-packages/tensorflow/python/util/traceback_utils.py:150\u001b[0m, in \u001b[0;36mfilter_traceback.<locals>.error_handler\u001b[0;34m(*args, **kwargs)\u001b[0m\n\u001b[1;32m    148\u001b[0m filtered_tb \u001b[39m=\u001b[39m \u001b[39mNone\u001b[39;00m\n\u001b[1;32m    149\u001b[0m \u001b[39mtry\u001b[39;00m:\n\u001b[0;32m--> 150\u001b[0m   \u001b[39mreturn\u001b[39;00m fn(\u001b[39m*\u001b[39;49margs, \u001b[39m*\u001b[39;49m\u001b[39m*\u001b[39;49mkwargs)\n\u001b[1;32m    151\u001b[0m \u001b[39mexcept\u001b[39;00m \u001b[39mException\u001b[39;00m \u001b[39mas\u001b[39;00m e:\n\u001b[1;32m    152\u001b[0m   filtered_tb \u001b[39m=\u001b[39m _process_traceback_frames(e\u001b[39m.\u001b[39m__traceback__)\n",
      "File \u001b[0;32m~/ebi/venvs/myVenv/lib/python3.10/site-packages/tensorflow/python/eager/polymorphic_function/polymorphic_function.py:825\u001b[0m, in \u001b[0;36mFunction.__call__\u001b[0;34m(self, *args, **kwds)\u001b[0m\n\u001b[1;32m    822\u001b[0m compiler \u001b[39m=\u001b[39m \u001b[39m\"\u001b[39m\u001b[39mxla\u001b[39m\u001b[39m\"\u001b[39m \u001b[39mif\u001b[39;00m \u001b[39mself\u001b[39m\u001b[39m.\u001b[39m_jit_compile \u001b[39melse\u001b[39;00m \u001b[39m\"\u001b[39m\u001b[39mnonXla\u001b[39m\u001b[39m\"\u001b[39m\n\u001b[1;32m    824\u001b[0m \u001b[39mwith\u001b[39;00m OptionalXlaContext(\u001b[39mself\u001b[39m\u001b[39m.\u001b[39m_jit_compile):\n\u001b[0;32m--> 825\u001b[0m   result \u001b[39m=\u001b[39m \u001b[39mself\u001b[39;49m\u001b[39m.\u001b[39;49m_call(\u001b[39m*\u001b[39;49margs, \u001b[39m*\u001b[39;49m\u001b[39m*\u001b[39;49mkwds)\n\u001b[1;32m    827\u001b[0m new_tracing_count \u001b[39m=\u001b[39m \u001b[39mself\u001b[39m\u001b[39m.\u001b[39mexperimental_get_tracing_count()\n\u001b[1;32m    828\u001b[0m without_tracing \u001b[39m=\u001b[39m (tracing_count \u001b[39m==\u001b[39m new_tracing_count)\n",
      "File \u001b[0;32m~/ebi/venvs/myVenv/lib/python3.10/site-packages/tensorflow/python/eager/polymorphic_function/polymorphic_function.py:857\u001b[0m, in \u001b[0;36mFunction._call\u001b[0;34m(self, *args, **kwds)\u001b[0m\n\u001b[1;32m    854\u001b[0m   \u001b[39mself\u001b[39m\u001b[39m.\u001b[39m_lock\u001b[39m.\u001b[39mrelease()\n\u001b[1;32m    855\u001b[0m   \u001b[39m# In this case we have created variables on the first call, so we run the\u001b[39;00m\n\u001b[1;32m    856\u001b[0m   \u001b[39m# defunned version which is guaranteed to never create variables.\u001b[39;00m\n\u001b[0;32m--> 857\u001b[0m   \u001b[39mreturn\u001b[39;00m \u001b[39mself\u001b[39;49m\u001b[39m.\u001b[39;49m_no_variable_creation_fn(\u001b[39m*\u001b[39;49margs, \u001b[39m*\u001b[39;49m\u001b[39m*\u001b[39;49mkwds)  \u001b[39m# pylint: disable=not-callable\u001b[39;00m\n\u001b[1;32m    858\u001b[0m \u001b[39melif\u001b[39;00m \u001b[39mself\u001b[39m\u001b[39m.\u001b[39m_variable_creation_fn \u001b[39mis\u001b[39;00m \u001b[39mnot\u001b[39;00m \u001b[39mNone\u001b[39;00m:\n\u001b[1;32m    859\u001b[0m   \u001b[39m# Release the lock early so that multiple threads can perform the call\u001b[39;00m\n\u001b[1;32m    860\u001b[0m   \u001b[39m# in parallel.\u001b[39;00m\n\u001b[1;32m    861\u001b[0m   \u001b[39mself\u001b[39m\u001b[39m.\u001b[39m_lock\u001b[39m.\u001b[39mrelease()\n",
      "File \u001b[0;32m~/ebi/venvs/myVenv/lib/python3.10/site-packages/tensorflow/python/eager/polymorphic_function/tracing_compiler.py:148\u001b[0m, in \u001b[0;36mTracingCompiler.__call__\u001b[0;34m(self, *args, **kwargs)\u001b[0m\n\u001b[1;32m    145\u001b[0m \u001b[39mwith\u001b[39;00m \u001b[39mself\u001b[39m\u001b[39m.\u001b[39m_lock:\n\u001b[1;32m    146\u001b[0m   (concrete_function,\n\u001b[1;32m    147\u001b[0m    filtered_flat_args) \u001b[39m=\u001b[39m \u001b[39mself\u001b[39m\u001b[39m.\u001b[39m_maybe_define_function(args, kwargs)\n\u001b[0;32m--> 148\u001b[0m \u001b[39mreturn\u001b[39;00m concrete_function\u001b[39m.\u001b[39;49m_call_flat(\n\u001b[1;32m    149\u001b[0m     filtered_flat_args, captured_inputs\u001b[39m=\u001b[39;49mconcrete_function\u001b[39m.\u001b[39;49mcaptured_inputs)\n",
      "File \u001b[0;32m~/ebi/venvs/myVenv/lib/python3.10/site-packages/tensorflow/python/eager/polymorphic_function/monomorphic_function.py:1349\u001b[0m, in \u001b[0;36mConcreteFunction._call_flat\u001b[0;34m(self, args, captured_inputs)\u001b[0m\n\u001b[1;32m   1345\u001b[0m possible_gradient_type \u001b[39m=\u001b[39m gradients_util\u001b[39m.\u001b[39mPossibleTapeGradientTypes(args)\n\u001b[1;32m   1346\u001b[0m \u001b[39mif\u001b[39;00m (possible_gradient_type \u001b[39m==\u001b[39m gradients_util\u001b[39m.\u001b[39mPOSSIBLE_GRADIENT_TYPES_NONE\n\u001b[1;32m   1347\u001b[0m     \u001b[39mand\u001b[39;00m executing_eagerly):\n\u001b[1;32m   1348\u001b[0m   \u001b[39m# No tape is watching; skip to running the function.\u001b[39;00m\n\u001b[0;32m-> 1349\u001b[0m   \u001b[39mreturn\u001b[39;00m \u001b[39mself\u001b[39m\u001b[39m.\u001b[39m_build_call_outputs(\u001b[39mself\u001b[39;49m\u001b[39m.\u001b[39;49m_inference_function(\u001b[39m*\u001b[39;49margs))\n\u001b[1;32m   1350\u001b[0m forward_backward \u001b[39m=\u001b[39m \u001b[39mself\u001b[39m\u001b[39m.\u001b[39m_select_forward_and_backward_functions(\n\u001b[1;32m   1351\u001b[0m     args,\n\u001b[1;32m   1352\u001b[0m     possible_gradient_type,\n\u001b[1;32m   1353\u001b[0m     executing_eagerly)\n\u001b[1;32m   1354\u001b[0m forward_function, args_with_tangents \u001b[39m=\u001b[39m forward_backward\u001b[39m.\u001b[39mforward()\n",
      "File \u001b[0;32m~/ebi/venvs/myVenv/lib/python3.10/site-packages/tensorflow/python/eager/polymorphic_function/atomic_function.py:196\u001b[0m, in \u001b[0;36mAtomicFunction.__call__\u001b[0;34m(self, *args)\u001b[0m\n\u001b[1;32m    194\u001b[0m \u001b[39mwith\u001b[39;00m record\u001b[39m.\u001b[39mstop_recording():\n\u001b[1;32m    195\u001b[0m   \u001b[39mif\u001b[39;00m \u001b[39mself\u001b[39m\u001b[39m.\u001b[39m_bound_context\u001b[39m.\u001b[39mexecuting_eagerly():\n\u001b[0;32m--> 196\u001b[0m     outputs \u001b[39m=\u001b[39m \u001b[39mself\u001b[39;49m\u001b[39m.\u001b[39;49m_bound_context\u001b[39m.\u001b[39;49mcall_function(\n\u001b[1;32m    197\u001b[0m         \u001b[39mself\u001b[39;49m\u001b[39m.\u001b[39;49mname,\n\u001b[1;32m    198\u001b[0m         \u001b[39mlist\u001b[39;49m(args),\n\u001b[1;32m    199\u001b[0m         \u001b[39mlen\u001b[39;49m(\u001b[39mself\u001b[39;49m\u001b[39m.\u001b[39;49mfunction_type\u001b[39m.\u001b[39;49mflat_outputs),\n\u001b[1;32m    200\u001b[0m     )\n\u001b[1;32m    201\u001b[0m   \u001b[39melse\u001b[39;00m:\n\u001b[1;32m    202\u001b[0m     outputs \u001b[39m=\u001b[39m make_call_op_in_graph(\u001b[39mself\u001b[39m, \u001b[39mlist\u001b[39m(args))\n",
      "File \u001b[0;32m~/ebi/venvs/myVenv/lib/python3.10/site-packages/tensorflow/python/eager/context.py:1457\u001b[0m, in \u001b[0;36mContext.call_function\u001b[0;34m(self, name, tensor_inputs, num_outputs)\u001b[0m\n\u001b[1;32m   1455\u001b[0m cancellation_context \u001b[39m=\u001b[39m cancellation\u001b[39m.\u001b[39mcontext()\n\u001b[1;32m   1456\u001b[0m \u001b[39mif\u001b[39;00m cancellation_context \u001b[39mis\u001b[39;00m \u001b[39mNone\u001b[39;00m:\n\u001b[0;32m-> 1457\u001b[0m   outputs \u001b[39m=\u001b[39m execute\u001b[39m.\u001b[39;49mexecute(\n\u001b[1;32m   1458\u001b[0m       name\u001b[39m.\u001b[39;49mdecode(\u001b[39m\"\u001b[39;49m\u001b[39mutf-8\u001b[39;49m\u001b[39m\"\u001b[39;49m),\n\u001b[1;32m   1459\u001b[0m       num_outputs\u001b[39m=\u001b[39;49mnum_outputs,\n\u001b[1;32m   1460\u001b[0m       inputs\u001b[39m=\u001b[39;49mtensor_inputs,\n\u001b[1;32m   1461\u001b[0m       attrs\u001b[39m=\u001b[39;49mattrs,\n\u001b[1;32m   1462\u001b[0m       ctx\u001b[39m=\u001b[39;49m\u001b[39mself\u001b[39;49m,\n\u001b[1;32m   1463\u001b[0m   )\n\u001b[1;32m   1464\u001b[0m \u001b[39melse\u001b[39;00m:\n\u001b[1;32m   1465\u001b[0m   outputs \u001b[39m=\u001b[39m execute\u001b[39m.\u001b[39mexecute_with_cancellation(\n\u001b[1;32m   1466\u001b[0m       name\u001b[39m.\u001b[39mdecode(\u001b[39m\"\u001b[39m\u001b[39mutf-8\u001b[39m\u001b[39m\"\u001b[39m),\n\u001b[1;32m   1467\u001b[0m       num_outputs\u001b[39m=\u001b[39mnum_outputs,\n\u001b[0;32m   (...)\u001b[0m\n\u001b[1;32m   1471\u001b[0m       cancellation_manager\u001b[39m=\u001b[39mcancellation_context,\n\u001b[1;32m   1472\u001b[0m   )\n",
      "File \u001b[0;32m~/ebi/venvs/myVenv/lib/python3.10/site-packages/tensorflow/python/eager/execute.py:53\u001b[0m, in \u001b[0;36mquick_execute\u001b[0;34m(op_name, num_outputs, inputs, attrs, ctx, name)\u001b[0m\n\u001b[1;32m     51\u001b[0m \u001b[39mtry\u001b[39;00m:\n\u001b[1;32m     52\u001b[0m   ctx\u001b[39m.\u001b[39mensure_initialized()\n\u001b[0;32m---> 53\u001b[0m   tensors \u001b[39m=\u001b[39m pywrap_tfe\u001b[39m.\u001b[39;49mTFE_Py_Execute(ctx\u001b[39m.\u001b[39;49m_handle, device_name, op_name,\n\u001b[1;32m     54\u001b[0m                                       inputs, attrs, num_outputs)\n\u001b[1;32m     55\u001b[0m \u001b[39mexcept\u001b[39;00m core\u001b[39m.\u001b[39m_NotOkStatusException \u001b[39mas\u001b[39;00m e:\n\u001b[1;32m     56\u001b[0m   \u001b[39mif\u001b[39;00m name \u001b[39mis\u001b[39;00m \u001b[39mnot\u001b[39;00m \u001b[39mNone\u001b[39;00m:\n",
      "\u001b[0;31mKeyboardInterrupt\u001b[0m: "
     ]
    }
   ],
   "source": [
    "lstm_training = lstm_model.fit(X_train, Y_train, batch_size=128,\n",
    "                                epochs=10, validation_data=(X_test, Y_test))"
   ]
  },
  {
   "cell_type": "code",
   "execution_count": 90,
   "metadata": {},
   "outputs": [
    {
     "name": "stdout",
     "output_type": "stream",
     "text": [
      "Model: \"sequential_4\"\n",
      "_________________________________________________________________\n",
      " Layer (type)                Output Shape              Param #   \n",
      "=================================================================\n",
      " embedding_4 (Embedding)     (None, 60, 300)           600000300 \n",
      "                                                                 \n",
      " gru (GRU)                   (None, 60, 64)            70272     \n",
      "                                                                 \n",
      " time_distributed_3 (TimeDi  (None, 60, 21)            1365      \n",
      " stributed)                                                      \n",
      "                                                                 \n",
      "=================================================================\n",
      "Total params: 600071937 (2.24 GB)\n",
      "Trainable params: 600071937 (2.24 GB)\n",
      "Non-trainable params: 0 (0.00 Byte)\n",
      "_________________________________________________________________\n"
     ]
    }
   ],
   "source": [
    "# create architecture\n",
    "lstm_model = Sequential()\n",
    "# vocabulary size — number of unique words in data\n",
    "# length of vector with which each word is represented\n",
    "lstm_model.add(Embedding(input_dim = VOCABULARY_SIZE, \n",
    " output_dim = EMBEDDING_SIZE, \n",
    "# length of input sequence\n",
    "input_length = MAX_SEQ_LENGTH, \n",
    "# word embedding matrix\n",
    "weights = [embedding_weights],\n",
    "# True — update embeddings_weight matrix\n",
    "trainable = True \n",
    "))\n",
    "# add an LSTM layer which contains 64 LSTM cells\n",
    "# True — return whole sequence; False — return single output of the end of the sequence\n",
    "lstm_model.add(GRU(64, return_sequences=True))\n",
    "lstm_model.add(TimeDistributed(Dense(NUM_CLASSES, activation='softmax')))\n",
    "#compile model\n",
    "lstm_model.compile(loss      =  'categorical_crossentropy',\n",
    "                  optimizer =  'adam',\n",
    "                  metrics   =  ['acc'])\n",
    "# check summary of the model\n",
    "lstm_model.summary()"
   ]
  },
  {
   "cell_type": "code",
   "execution_count": null,
   "metadata": {},
   "outputs": [],
   "source": [
    "gru_training = lstm_model.fit(X_train, Y_train, batch_size=128,\n",
    "                              epochs=10, validation_data=(X_test, Y_test))"
   ]
  }
 ],
 "metadata": {
  "kernelspec": {
   "display_name": "ebi",
   "language": "python",
   "name": "ebi"
  },
  "language_info": {
   "codemirror_mode": {
    "name": "ipython",
    "version": 3
   },
   "file_extension": ".py",
   "mimetype": "text/x-python",
   "name": "python",
   "nbconvert_exporter": "python",
   "pygments_lexer": "ipython3",
   "version": "3.10.6"
  },
  "orig_nbformat": 4
 },
 "nbformat": 4,
 "nbformat_minor": 2
}
