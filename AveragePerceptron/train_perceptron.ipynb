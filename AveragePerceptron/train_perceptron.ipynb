{
 "cells": [
  {
   "cell_type": "code",
   "execution_count": 26,
   "metadata": {},
   "outputs": [],
   "source": [
    "from hazm import *\n",
    "import pandas as pd\n",
    "import numpy as np\n",
    "import pickle\n",
    "from collections import defaultdict\n",
    "from tqdm import tqdm\n",
    "import itertools\n",
    "import random\n",
    "import pickle\n",
    "from sklearn.model_selection import train_test_split\n",
    "from taggers import PerceptronTagger\n",
    "from sklearn.metrics import classification_report, precision_score, recall_score, f1_score, accuracy_score"
   ]
  },
  {
   "cell_type": "code",
   "execution_count": 2,
   "metadata": {},
   "outputs": [],
   "source": [
    "with open('/Users/e_ghafour/repos/pos_tagger/data.pkl', 'rb') as ff:\n",
    "    data = pickle.load(ff)"
   ]
  },
  {
   "cell_type": "code",
   "execution_count": 3,
   "metadata": {},
   "outputs": [
    {
     "name": "stderr",
     "output_type": "stream",
     "text": [
      "100%|██████████| 344741/344741 [00:04<00:00, 78411.16it/s] \n"
     ]
    }
   ],
   "source": [
    "words = []\n",
    "tags = []\n",
    "for sent in tqdm(data):\n",
    "    word_tmp = []\n",
    "    tags_tmp = []\n",
    "    for word, tag in sent:\n",
    "        word_tmp.append(word)\n",
    "        tags_tmp.append(tag)\n",
    "    words.append(word_tmp)\n",
    "    tags.append(tags_tmp)"
   ]
  },
  {
   "cell_type": "code",
   "execution_count": 4,
   "metadata": {},
   "outputs": [],
   "source": [
    "X_train, X_test, y_train, y_test = train_test_split(words, tags, test_size=0.1, random_state=10)"
   ]
  },
  {
   "cell_type": "code",
   "execution_count": 5,
   "metadata": {},
   "outputs": [],
   "source": [
    "sentences = list(zip(X_train, y_train))"
   ]
  },
  {
   "cell_type": "code",
   "execution_count": 6,
   "metadata": {},
   "outputs": [],
   "source": [
    "classes = list(np.unique(list(itertools.chain(*y_train))))"
   ]
  },
  {
   "cell_type": "code",
   "execution_count": 7,
   "metadata": {},
   "outputs": [],
   "source": [
    "perceptron = PerceptronTagger(load=False)"
   ]
  },
  {
   "cell_type": "code",
   "execution_count": 8,
   "metadata": {},
   "outputs": [
    {
     "name": "stdout",
     "output_type": "stream",
     "text": [
      "0\n"
     ]
    },
    {
     "name": "stderr",
     "output_type": "stream",
     "text": [
      "100%|██████████| 310266/310266 [03:20<00:00, 1549.84it/s]\n"
     ]
    },
    {
     "name": "stdout",
     "output_type": "stream",
     "text": [
      "1\n"
     ]
    },
    {
     "name": "stderr",
     "output_type": "stream",
     "text": [
      "100%|██████████| 310266/310266 [03:25<00:00, 1506.99it/s]\n"
     ]
    },
    {
     "name": "stdout",
     "output_type": "stream",
     "text": [
      "2\n"
     ]
    },
    {
     "name": "stderr",
     "output_type": "stream",
     "text": [
      "100%|██████████| 310266/310266 [03:25<00:00, 1509.53it/s]\n"
     ]
    },
    {
     "name": "stdout",
     "output_type": "stream",
     "text": [
      "3\n"
     ]
    },
    {
     "name": "stderr",
     "output_type": "stream",
     "text": [
      "100%|██████████| 310266/310266 [03:32<00:00, 1460.95it/s]\n"
     ]
    },
    {
     "name": "stdout",
     "output_type": "stream",
     "text": [
      "4\n"
     ]
    },
    {
     "name": "stderr",
     "output_type": "stream",
     "text": [
      "100%|██████████| 310266/310266 [03:29<00:00, 1482.65it/s]\n"
     ]
    }
   ],
   "source": [
    "perceptron.train(sentences=sentences,\n",
    "                 save_loc='here.pkl')"
   ]
  },
  {
   "cell_type": "code",
   "execution_count": 24,
   "metadata": {},
   "outputs": [],
   "source": [
    "def my_tag(model, tokenize_sents):\n",
    "    tokens = []\n",
    "    prev, prev2 = model.START\n",
    "    for words in tqdm(tokenize_sents):\n",
    "        token_sent = []\n",
    "        context = model.START + [model._normalize(w) for w in words] + model.END\n",
    "        for i, word in enumerate(words):\n",
    "            tag = model.tagdict.get(word)\n",
    "            if not tag:\n",
    "                features = model._get_features(i, word, context, prev, prev2)\n",
    "                tag = model.model.predict(features)\n",
    "            token_sent.append(tag)\n",
    "            prev2 = prev\n",
    "            prev = tag\n",
    "        tokens.append(token_sent)\n",
    "    return tokens"
   ]
  },
  {
   "cell_type": "code",
   "execution_count": 25,
   "metadata": {},
   "outputs": [
    {
     "name": "stderr",
     "output_type": "stream",
     "text": [
      "100%|██████████| 34475/34475 [00:21<00:00, 1597.67it/s]\n"
     ]
    }
   ],
   "source": [
    "y_pred = my_tag(perceptron, X_test)\n"
   ]
  },
  {
   "cell_type": "code",
   "execution_count": 28,
   "metadata": {},
   "outputs": [],
   "source": [
    "y_pred_flatten = list(itertools.chain(*y_pred))\n",
    "y_test_flatten = list(itertools.chain(*y_test))"
   ]
  },
  {
   "cell_type": "code",
   "execution_count": 30,
   "metadata": {},
   "outputs": [
    {
     "name": "stdout",
     "output_type": "stream",
     "text": [
      "              precision    recall  f1-score   support\n",
      "\n",
      "         ADJ       0.94      0.94      0.94     67838\n",
      "      ADJ,EZ       0.91      0.91      0.91     22917\n",
      "         ADP       1.00      1.00      1.00    113104\n",
      "      ADP,EZ       0.98      0.99      0.98     11121\n",
      "         ADV       0.95      0.93      0.94     18021\n",
      "      ADV,EZ       0.97      0.92      0.94      1125\n",
      "       CCONJ       1.00      1.00      1.00     59224\n",
      "    CCONJ,EZ       1.00      0.99      0.99        99\n",
      "         DET       0.97      0.98      0.97     22189\n",
      "      DET,EZ       0.92      0.94      0.93      2336\n",
      "        INTJ       0.89      0.97      0.93        67\n",
      "        NOUN       0.96      0.95      0.96    211864\n",
      "     NOUN,EZ       0.95      0.97      0.96    180460\n",
      "         NUM       0.98      0.99      0.99     26462\n",
      "      NUM,EZ       0.90      0.83      0.86      1911\n",
      "        PRON       0.97      0.97      0.97     25418\n",
      "     PRON,EZ       0.84      0.67      0.74       275\n",
      "       PUNCT       1.00      1.00      1.00     96174\n",
      "       SCONJ       0.99      0.99      0.99     22968\n",
      "        VERB       1.00      0.99      0.99     86870\n",
      "\n",
      "    accuracy                           0.97    970443\n",
      "   macro avg       0.96      0.95      0.95    970443\n",
      "weighted avg       0.97      0.97      0.97    970443\n",
      "\n",
      "Precision                                   : 0.97204\n",
      "Recall                                      : 0.97206\n",
      "F1-Score                                    : 0.97203\n"
     ]
    }
   ],
   "source": [
    "print(classification_report(y_pred=y_pred_flatten , y_true=y_test_flatten))\n",
    "\n",
    "print('Precision                                   : %.5f'%precision_score(y_pred=y_pred_flatten , y_true=y_test_flatten, average='weighted'))\n",
    "print('Recall                                      : %.5f'%recall_score(y_pred=y_pred_flatten , y_true=y_test_flatten, average='weighted'))\n",
    "print('F1-Score                                    : %.5f'%f1_score(y_pred=y_pred_flatten , y_true=y_test_flatten, average='weighted'))\n"
   ]
  },
  {
   "cell_type": "code",
   "execution_count": null,
   "metadata": {},
   "outputs": [],
   "source": []
  }
 ],
 "metadata": {
  "kernelspec": {
   "display_name": "env_name",
   "language": "python",
   "name": "python3"
  },
  "language_info": {
   "codemirror_mode": {
    "name": "ipython",
    "version": 3
   },
   "file_extension": ".py",
   "mimetype": "text/x-python",
   "name": "python",
   "nbconvert_exporter": "python",
   "pygments_lexer": "ipython3",
   "version": "3.8.0"
  },
  "orig_nbformat": 4
 },
 "nbformat": 4,
 "nbformat_minor": 2
}
